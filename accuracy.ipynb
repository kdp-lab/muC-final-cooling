{
 "cells": [
  {
   "cell_type": "code",
   "execution_count": null,
   "id": "38234f71-0183-41f0-8390-83275d52dde6",
   "metadata": {},
   "outputs": [],
   "source": [
    "# Import my files\n",
    "from g4beam import *\n",
    "from scan import *\n",
    "\n",
    "# Import necessary packages\n",
    "import math\n",
    "import matplotlib.pyplot as plt\n",
    "import matplotlib.animation as animation\n",
    "from matplotlib import cm\n",
    "import numpy as np\n",
    "import pandas as pd\n",
    "from tqdm import *\n",
    "import pickle\n",
    "import itertools\n",
    "from tabulate import tabulate\n",
    "import scipy.optimize\n",
    "import lzma\n",
    "\n",
    "# Parameter list\n",
    "PARAMS = [\n",
    "    \"t_emit\",\n",
    "    \"momentum\",\n",
    "    \"beta\",\n",
    "    \"alpha\",\n",
    "    \"l_emit\",\n",
    "    \"pz_std\",\n",
    "    \"vd_dist\",\n",
    "    \"w1_length\",\n",
    "    \"w1_angle\",\n",
    "    \"w2_length\",\n",
    "    \"w2_angle\",\n",
    "    \"drift_length\",\n",
    "    \"rf_freq\",\n",
    "    \"rf_phase\",\n",
    "    \"rf_length\",\n",
    "    \"rf_grad\"\n",
    "]\n",
    "\n",
    "# Helper function to load parameter sets\n",
    "def load_params(filename):\n",
    "    with open(filename, \"rb+\") as file:\n",
    "        parameters = pickle.load(file)\n",
    "        globals().update(parameters)\n",
    "        print(\"Loaded from\", filename)\n",
    "\n",
    "# Load up the 145 μm optimized \u0000parameters as a test case\n",
    "load_params(\"results/parameters/145_new.pkl\")"
   ]
  },
  {
   "cell_type": "code",
   "execution_count": 4,
   "id": "3fe44b23-d4ba-4c7e-8856-f494ee7f651c",
   "metadata": {},
   "outputs": [],
   "source": [
    "particleCountRange = np.geomspace(1e4, 1e6, 30).astype(int)\n",
    "maxStepRange = np.geomspace(0.01, 10, 30)\n",
    "wedgeStepRange = np.geomspace(0.01, 10, 30)"
   ]
  },
  {
   "cell_type": "code",
   "execution_count": null,
   "id": "f57496f3-cb0f-4971-a66c-d22a16c35511",
   "metadata": {},
   "outputs": [
    {
     "name": "stdout",
     "output_type": "stream",
     "text": [
      "Loaded from results/parameters/145_new.pkl\n"
     ]
    },
    {
     "name": "stderr",
     "output_type": "stream",
     "text": [
      " 78%|█████████████████████████████████████████████████████████████████▎                  | 7/9 [06:11<01:51, 55.57s/it]"
     ]
    }
   ],
   "source": [
    "def fun(N):\n",
    "    pre_w1 = gen_distribution((beta, alpha, t_emit, 0, 0), (beta, alpha, t_emit, 0, 0), momentum, pz_std, z_emit=l_emit, N=N)\n",
    "    pre_w1[\"PDGid\"] = -13\n",
    "    start_time = time.time()\n",
    "    post_w1 = run_distribution(pre_w1, w1_length, w1_angle, vd_dist, axis=0)\n",
    "    return post_w1, time.time()-start_time\n",
    "\n",
    "results = run_scan(fun, (particleCountRange,), \"results/accuracy_particleCount.pkl.lzma\", trials=30)"
   ]
  },
  {
   "cell_type": "code",
   "execution_count": null,
   "id": "ec504fd5-6c27-49a6-a8aa-6835277fcebc",
   "metadata": {},
   "outputs": [],
   "source": [
    "with lzma.open(\"results/accuracy_particleCount.pkl.lzma\", \"rb\") as file:\n",
    "    results = pickle.load(file)\n",
    "\n",
    "fig, ((ax1, ax2, ax3, ax4, ax5, ax6)) = plt.subplots(nrows=6, layout=\"constrained\")\n",
    "fig.set_size_inches(12, 6)\n",
    "ax1.errorbar(*qmap_to_arrays(maxSteps, calc_quantity(lambda x: emittances(cut_outliers(x[0]))[0], results)), capsize=2)\n",
    "ax1.set_xlabel(r\"N\")\n",
    "ax1.set_ylabel(r\"x emit (mm)\")\n",
    "ax1.set_yscale(\"log\")\n",
    "\n",
    "ax2.errorbar(*qmap_to_arrays(maxSteps, calc_quantity(lambda x: emittances(cut_outliers(x[0]))[1], results)), capsize=2)\n",
    "ax2.set_xlabel(r\"N\")\n",
    "ax2.set_ylabel(r\"y emit (mm)\")\n",
    "ax2.set_yscale(\"log\")\n",
    "\n",
    "ax3.errorbar(*qmap_to_arrays(maxSteps, calc_quantity(lambda x: emittances(cut_outliers(x[0]))[2], results)), capsize=2)\n",
    "ax3.set_xlabel(r\"N\")\n",
    "ax3.set_ylabel(r\"z emit (mm)\")\n",
    "ax3.set_yscale(\"log\")\n",
    "\n",
    "ax4.errorbar(*qmap_to_arrays(maxSteps, calc_quantity(lambda x: np.std(p_total(cut_outliers(x[0]))), results)), capsize=2)\n",
    "ax4.set_xlabel(r\"N\")\n",
    "ax4.set_ylabel(r\"$\\sigma_p$ (MeV/c)\")\n",
    "ax4.set_yscale(\"log\")\n",
    "\n",
    "ax5.errorbar(*qmap_to_arrays(maxSteps, calc_quantity(lambda x: np.mean(p_total(cut_outliers(x[0]))), results)), capsize=2)\n",
    "ax5.set_xlabel(r\"N\")\n",
    "ax5.set_ylabel(r\"mean momentum (MeV/c)\")\n",
    "ax5.set_yscale(\"log\")\n",
    "\n",
    "ax6.errorbar(*qmap_to_arrays(maxSteps, calc_quantity(lambda x: x[1], results)), capsize=2)\n",
    "ax6.set_xlabel(r\"N\")\n",
    "ax6.set_ylabel(r\"time\")\n",
    "ax6.set_yscale(\"log\")"
   ]
  }
 ],
 "metadata": {
  "kernelspec": {
   "display_name": "Python 3 (ipykernel)",
   "language": "python",
   "name": "python3"
  },
  "language_info": {
   "codemirror_mode": {
    "name": "ipython",
    "version": 3
   },
   "file_extension": ".py",
   "mimetype": "text/x-python",
   "name": "python",
   "nbconvert_exporter": "python",
   "pygments_lexer": "ipython3",
   "version": "3.11.1"
  }
 },
 "nbformat": 4,
 "nbformat_minor": 5
}
