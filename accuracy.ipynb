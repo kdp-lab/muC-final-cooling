{
 "cells": [
  {
   "cell_type": "code",
   "execution_count": 1,
   "id": "3a1863d4-16df-49a7-9b3a-6285f931ba5d",
   "metadata": {},
   "outputs": [
    {
     "name": "stdout",
     "output_type": "stream",
     "text": [
      "Loaded from results/parameters/145_new.pkl\n"
     ]
    }
   ],
   "source": [
    "from g4beam import *\n",
    "from scan import *\n",
    "\n",
    "# Import necessary packages\n",
    "import math\n",
    "import matplotlib.pyplot as plt\n",
    "import matplotlib.animation as animation\n",
    "from matplotlib import cm\n",
    "import numpy as np\n",
    "import pandas as pd\n",
    "from tqdm import *\n",
    "import pickle\n",
    "import itertools\n",
    "from tabulate import tabulate\n",
    "import scipy.optimize\n",
    "import lzma\n",
    "\n",
    "# Parameter list\n",
    "PARAMS = [\n",
    "    \"t_emit\",\n",
    "    \"momentum\",\n",
    "    \"beta\",\n",
    "    \"alpha\",\n",
    "    \"l_emit\",\n",
    "    \"pz_std\",\n",
    "    \"vd_dist\",\n",
    "    \"w1_length\",\n",
    "    \"w1_angle\",\n",
    "    \"w2_length\",\n",
    "    \"w2_angle\",\n",
    "    \"drift_length\",\n",
    "    \"rf_freq\",\n",
    "    \"rf_phase\",\n",
    "    \"rf_length\",\n",
    "    \"rf_grad\"\n",
    "]\n",
    "\n",
    "# Helper function to load parameter sets\n",
    "def load_params(filename):\n",
    "    with open(filename, \"rb+\") as file:\n",
    "        parameters = pickle.load(file)\n",
    "        globals().update(parameters)\n",
    "        print(\"Loaded from\", filename)\n",
    "\n",
    "# Load up the 145 μm optimized parameters as a test\n",
    "load_params(\"results/parameters/145_new.pkl\")"
   ]
  },
  {
   "cell_type": "code",
   "execution_count": 2,
   "id": "3fe44b23-d4ba-4c7e-8856-f494ee7f651c",
   "metadata": {},
   "outputs": [],
   "source": [
    "particleCountRange = np.geomspace(1e4, 1e6, 30).astype(int)\n",
    "maxStepRange = np.geomspace(0.01, 10, 30)\n",
    "wedgeStepRange = np.geomspace(0.01, 10, 30)"
   ]
  },
  {
   "cell_type": "code",
   "execution_count": 3,
   "id": "f57496f3-cb0f-4971-a66c-d22a16c35511",
   "metadata": {
    "scrolled": true
   },
   "outputs": [
    {
     "name": "stderr",
     "output_type": "stream",
     "text": [
      "  0%|                                                                                           | 0/900 [00:00<?, ?it/s]Geant4Data: required dataset G4EMLOW.8.0 not found\n",
      "Geant4Data: required dataset G4ENSDFSTATE.2.3 not found\n",
      "Geant4Data: required dataset G4PARTICLEXS.4.0 not found\n",
      "Geant4Data: required dataset G4PhotonEvaporation.5.7 not found\n",
      "Geant4Data: required dataset G4RadioactiveDecay.5.6 not found\n",
      "Geant4Data: required dataset G4EMLOW.8.0 not found\n",
      "Geant4Data: required dataset G4ENSDFSTATE.2.3 not found\n",
      "Geant4Data: required dataset G4PARTICLEXS.4.0 not found\n",
      "Geant4Data: required dataset G4PhotonEvaporation.5.7 not found\n",
      "Geant4Data: required dataset G4RadioactiveDecay.5.6 not found\n",
      "  0%|                                                                                   | 1/900 [00:02<39:58,  2.67s/it]Geant4Data: required dataset G4EMLOW.8.0 not found\n",
      "Geant4Data: required dataset G4ENSDFSTATE.2.3 not found\n",
      "Geant4Data: required dataset G4PARTICLEXS.4.0 not found\n",
      "Geant4Data: required dataset G4PhotonEvaporation.5.7 not found\n",
      "Geant4Data: required dataset G4RadioactiveDecay.5.6 not found\n",
      "Geant4Data: required dataset G4EMLOW.8.0 not found\n",
      "Geant4Data: required dataset G4ENSDFSTATE.2.3 not found\n",
      "Geant4Data: required dataset G4PARTICLEXS.4.0 not found\n",
      "Geant4Data: required dataset G4PhotonEvaporation.5.7 not found\n",
      "Geant4Data: required dataset G4RadioactiveDecay.5.6 not found\n",
      "  0%|▏                                                                                  | 2/900 [00:04<36:21,  2.43s/it]Geant4Data: required dataset G4EMLOW.8.0 not found\n",
      "Geant4Data: required dataset G4ENSDFSTATE.2.3 not found\n",
      "Geant4Data: required dataset G4PARTICLEXS.4.0 not found\n",
      "Geant4Data: required dataset G4PhotonEvaporation.5.7 not found\n",
      "Geant4Data: required dataset G4RadioactiveDecay.5.6 not found\n",
      "Geant4Data: required dataset G4EMLOW.8.0 not found\n",
      "Geant4Data: required dataset G4ENSDFSTATE.2.3 not found\n",
      "Geant4Data: required dataset G4PARTICLEXS.4.0 not found\n",
      "Geant4Data: required dataset G4PhotonEvaporation.5.7 not found\n",
      "Geant4Data: required dataset G4RadioactiveDecay.5.6 not found\n",
      "  0%|▎                                                                                  | 3/900 [00:07<37:11,  2.49s/it]Geant4Data: required dataset G4EMLOW.8.0 not found\n",
      "Geant4Data: required dataset G4ENSDFSTATE.2.3 not found\n",
      "Geant4Data: required dataset G4PARTICLEXS.4.0 not found\n",
      "Geant4Data: required dataset G4PhotonEvaporation.5.7 not found\n",
      "Geant4Data: required dataset G4RadioactiveDecay.5.6 not found\n",
      "Geant4Data: required dataset G4EMLOW.8.0 not found\n",
      "Geant4Data: required dataset G4ENSDFSTATE.2.3 not found\n",
      "Geant4Data: required dataset G4PARTICLEXS.4.0 not found\n",
      "Geant4Data: required dataset G4PhotonEvaporation.5.7 not found\n",
      "Geant4Data: required dataset G4RadioactiveDecay.5.6 not found\n",
      "\n",
      "Stack Trace for signal 2:\n",
      "0             0x746f2a  g4bl  (null) + 7630634\n",
      "1       0x7f9bbe15adb0  libc.so.6  (null) + 140306885750192\n",
      "2             0xbe06e2  g4bl  (null) + 12453602\n",
      "3             0xa709a2  g4bl  (null) + 10946978\n",
      "4             0xa6e752  g4bl  (null) + 10938194\n",
      "5             0xa65b0b  g4bl  (null) + 10902283\n",
      "6             0x9f8582  g4bl  (null) + 10454402\n",
      "7             0x744469  g4bl  (null) + 7619689\n",
      "8             0x9b7cfe  g4bl  (null) + 10190078\n",
      "9             0x72b123  g4bl  (null) + 7516451\n",
      "10            0x556d87  g4bl  (null) + 5598599\n",
      "11      0x7f9bbe145eb0  libc.so.6  (null) + 140306885664432\n",
      "12      0x7f9bbe145f60  libc.so.6  __libc_start_main + 128\n",
      "13            0x5bc655  g4bl  (null) + 6014549\n",
      "\n",
      "  0%|▎                                                                                  | 3/900 [00:08<43:38,  2.92s/it]\n"
     ]
    },
    {
     "ename": "KeyboardInterrupt",
     "evalue": "",
     "output_type": "error",
     "traceback": [
      "\u001b[0;31m---------------------------------------------------------------------------\u001b[0m",
      "\u001b[0;31mKeyboardInterrupt\u001b[0m                         Traceback (most recent call last)",
      "Cell \u001b[0;32mIn[3], line 8\u001b[0m\n\u001b[1;32m      5\u001b[0m     post_w1 \u001b[38;5;241m=\u001b[39m run_distribution(pre_w1, w1_length, w1_angle, vd_dist, axis\u001b[38;5;241m=\u001b[39m\u001b[38;5;241m0\u001b[39m)\n\u001b[1;32m      6\u001b[0m     \u001b[38;5;28;01mreturn\u001b[39;00m post_w1, time\u001b[38;5;241m.\u001b[39mtime()\u001b[38;5;241m-\u001b[39mstart_time\n\u001b[0;32m----> 8\u001b[0m results \u001b[38;5;241m=\u001b[39m \u001b[43mrun_scan\u001b[49m\u001b[43m(\u001b[49m\u001b[43mfun\u001b[49m\u001b[43m,\u001b[49m\u001b[43m \u001b[49m\u001b[43m(\u001b[49m\u001b[43mparticleCountRange\u001b[49m\u001b[43m,\u001b[49m\u001b[43m)\u001b[49m\u001b[43m,\u001b[49m\u001b[43m \u001b[49m\u001b[38;5;124;43m\"\u001b[39;49m\u001b[38;5;124;43mresults/accuracy_particleCount.pkl.lzma\u001b[39;49m\u001b[38;5;124;43m\"\u001b[39;49m\u001b[43m,\u001b[49m\u001b[43m \u001b[49m\u001b[43mtrials\u001b[49m\u001b[38;5;241;43m=\u001b[39;49m\u001b[38;5;241;43m30\u001b[39;49m\u001b[43m)\u001b[49m\n",
      "File \u001b[0;32m~/muC-final-cooling/scan.py:42\u001b[0m, in \u001b[0;36mrun_scan\u001b[0;34m(fun, var_axes, filename, trials, beep_on_done)\u001b[0m\n\u001b[1;32m     40\u001b[0m results \u001b[38;5;241m=\u001b[39m \u001b[38;5;28mlist\u001b[39m()\n\u001b[1;32m     41\u001b[0m \u001b[38;5;28;01mfor\u001b[39;00m x \u001b[38;5;129;01min\u001b[39;00m tqdm(to_run):\n\u001b[0;32m---> 42\u001b[0m     result \u001b[38;5;241m=\u001b[39m \u001b[43mfun\u001b[49m\u001b[43m(\u001b[49m\u001b[38;5;241;43m*\u001b[39;49m\u001b[43mx\u001b[49m\u001b[43m)\u001b[49m\n\u001b[1;32m     43\u001b[0m     results\u001b[38;5;241m.\u001b[39mappend(\u001b[38;5;28mtuple\u001b[39m(\u001b[38;5;28mlist\u001b[39m(x) \u001b[38;5;241m+\u001b[39m [result]))\n\u001b[1;32m     44\u001b[0m \u001b[38;5;28;01mif\u001b[39;00m filename \u001b[38;5;129;01mis\u001b[39;00m \u001b[38;5;129;01mnot\u001b[39;00m \u001b[38;5;28;01mNone\u001b[39;00m:\n",
      "Cell \u001b[0;32mIn[3], line 5\u001b[0m, in \u001b[0;36mfun\u001b[0;34m(N)\u001b[0m\n\u001b[1;32m      3\u001b[0m pre_w1[\u001b[38;5;124m\"\u001b[39m\u001b[38;5;124mPDGid\u001b[39m\u001b[38;5;124m\"\u001b[39m] \u001b[38;5;241m=\u001b[39m \u001b[38;5;241m-\u001b[39m\u001b[38;5;241m13\u001b[39m\n\u001b[1;32m      4\u001b[0m start_time \u001b[38;5;241m=\u001b[39m time\u001b[38;5;241m.\u001b[39mtime()\n\u001b[0;32m----> 5\u001b[0m post_w1 \u001b[38;5;241m=\u001b[39m \u001b[43mrun_distribution\u001b[49m\u001b[43m(\u001b[49m\u001b[43mpre_w1\u001b[49m\u001b[43m,\u001b[49m\u001b[43m \u001b[49m\u001b[43mw1_length\u001b[49m\u001b[43m,\u001b[49m\u001b[43m \u001b[49m\u001b[43mw1_angle\u001b[49m\u001b[43m,\u001b[49m\u001b[43m \u001b[49m\u001b[43mvd_dist\u001b[49m\u001b[43m,\u001b[49m\u001b[43m \u001b[49m\u001b[43maxis\u001b[49m\u001b[38;5;241;43m=\u001b[39;49m\u001b[38;5;241;43m0\u001b[39;49m\u001b[43m)\u001b[49m\n\u001b[1;32m      6\u001b[0m \u001b[38;5;28;01mreturn\u001b[39;00m post_w1, time\u001b[38;5;241m.\u001b[39mtime()\u001b[38;5;241m-\u001b[39mstart_time\n",
      "File \u001b[0;32m~/muC-final-cooling/g4beam.py:447\u001b[0m, in \u001b[0;36mrun_distribution\u001b[0;34m(df, length, half_angle, base_length, debug, filename, axis, **kwargs)\u001b[0m\n\u001b[1;32m    445\u001b[0m     write_trackfile(df, \u001b[38;5;124m\"\u001b[39m\u001b[38;5;124mparticles_before.txt\u001b[39m\u001b[38;5;124m\"\u001b[39m)\n\u001b[1;32m    446\u001b[0m \u001b[38;5;28;01melse\u001b[39;00m:\n\u001b[0;32m--> 447\u001b[0m     \u001b[38;5;28;01mreturn\u001b[39;00m \u001b[43mrun_g4beam\u001b[49m\u001b[43m(\u001b[49m\n\u001b[1;32m    448\u001b[0m \u001b[43m        \u001b[49m\u001b[43mdf\u001b[49m\u001b[43m,\u001b[49m\n\u001b[1;32m    449\u001b[0m \u001b[43m        \u001b[49m\u001b[43mfilename\u001b[49m\u001b[38;5;241;43m=\u001b[39;49m\u001b[43mfilename\u001b[49m\u001b[43m,\u001b[49m\n\u001b[1;32m    450\u001b[0m \u001b[43m        \u001b[49m\u001b[38;5;241;43m*\u001b[39;49m\u001b[38;5;241;43m*\u001b[39;49m\u001b[43mparameters\u001b[49m\n\u001b[1;32m    451\u001b[0m \u001b[43m    \u001b[49m\u001b[43m)\u001b[49m\n",
      "File \u001b[0;32m~/muC-final-cooling/g4beam.py:401\u001b[0m, in \u001b[0;36mrun_g4beam\u001b[0;34m(df, filename, debug, **kwargs)\u001b[0m\n\u001b[1;32m    399\u001b[0m     \u001b[38;5;28;01mreturn\u001b[39;00m\n\u001b[1;32m    400\u001b[0m \u001b[38;5;28;01mtry\u001b[39;00m:\n\u001b[0;32m--> 401\u001b[0m     \u001b[43msubprocess\u001b[49m\u001b[38;5;241;43m.\u001b[39;49m\u001b[43mrun\u001b[49m\u001b[43m(\u001b[49m\u001b[43mcommand\u001b[49m\u001b[43m,\u001b[49m\u001b[43m \u001b[49m\u001b[43mstdout\u001b[49m\u001b[38;5;241;43m=\u001b[39;49m\u001b[43msubprocess\u001b[49m\u001b[38;5;241;43m.\u001b[39;49m\u001b[43mDEVNULL\u001b[49m\u001b[43m)\u001b[49m\n\u001b[1;32m    402\u001b[0m \u001b[38;5;28;01mexcept\u001b[39;00m \u001b[38;5;167;01mException\u001b[39;00m:\n\u001b[1;32m    403\u001b[0m     os\u001b[38;5;241m.\u001b[39mremove(in_filename)\n",
      "File \u001b[0;32m/usr/lib64/python3.9/subprocess.py:507\u001b[0m, in \u001b[0;36mrun\u001b[0;34m(input, capture_output, timeout, check, *popenargs, **kwargs)\u001b[0m\n\u001b[1;32m    505\u001b[0m \u001b[38;5;28;01mwith\u001b[39;00m Popen(\u001b[38;5;241m*\u001b[39mpopenargs, \u001b[38;5;241m*\u001b[39m\u001b[38;5;241m*\u001b[39mkwargs) \u001b[38;5;28;01mas\u001b[39;00m process:\n\u001b[1;32m    506\u001b[0m     \u001b[38;5;28;01mtry\u001b[39;00m:\n\u001b[0;32m--> 507\u001b[0m         stdout, stderr \u001b[38;5;241m=\u001b[39m \u001b[43mprocess\u001b[49m\u001b[38;5;241;43m.\u001b[39;49m\u001b[43mcommunicate\u001b[49m\u001b[43m(\u001b[49m\u001b[38;5;28;43minput\u001b[39;49m\u001b[43m,\u001b[49m\u001b[43m \u001b[49m\u001b[43mtimeout\u001b[49m\u001b[38;5;241;43m=\u001b[39;49m\u001b[43mtimeout\u001b[49m\u001b[43m)\u001b[49m\n\u001b[1;32m    508\u001b[0m     \u001b[38;5;28;01mexcept\u001b[39;00m TimeoutExpired \u001b[38;5;28;01mas\u001b[39;00m exc:\n\u001b[1;32m    509\u001b[0m         process\u001b[38;5;241m.\u001b[39mkill()\n",
      "File \u001b[0;32m/usr/lib64/python3.9/subprocess.py:1126\u001b[0m, in \u001b[0;36mPopen.communicate\u001b[0;34m(self, input, timeout)\u001b[0m\n\u001b[1;32m   1124\u001b[0m         stderr \u001b[38;5;241m=\u001b[39m \u001b[38;5;28mself\u001b[39m\u001b[38;5;241m.\u001b[39mstderr\u001b[38;5;241m.\u001b[39mread()\n\u001b[1;32m   1125\u001b[0m         \u001b[38;5;28mself\u001b[39m\u001b[38;5;241m.\u001b[39mstderr\u001b[38;5;241m.\u001b[39mclose()\n\u001b[0;32m-> 1126\u001b[0m     \u001b[38;5;28;43mself\u001b[39;49m\u001b[38;5;241;43m.\u001b[39;49m\u001b[43mwait\u001b[49m\u001b[43m(\u001b[49m\u001b[43m)\u001b[49m\n\u001b[1;32m   1127\u001b[0m \u001b[38;5;28;01melse\u001b[39;00m:\n\u001b[1;32m   1128\u001b[0m     \u001b[38;5;28;01mif\u001b[39;00m timeout \u001b[38;5;129;01mis\u001b[39;00m \u001b[38;5;129;01mnot\u001b[39;00m \u001b[38;5;28;01mNone\u001b[39;00m:\n",
      "File \u001b[0;32m/usr/lib64/python3.9/subprocess.py:1189\u001b[0m, in \u001b[0;36mPopen.wait\u001b[0;34m(self, timeout)\u001b[0m\n\u001b[1;32m   1187\u001b[0m     endtime \u001b[38;5;241m=\u001b[39m _time() \u001b[38;5;241m+\u001b[39m timeout\n\u001b[1;32m   1188\u001b[0m \u001b[38;5;28;01mtry\u001b[39;00m:\n\u001b[0;32m-> 1189\u001b[0m     \u001b[38;5;28;01mreturn\u001b[39;00m \u001b[38;5;28;43mself\u001b[39;49m\u001b[38;5;241;43m.\u001b[39;49m\u001b[43m_wait\u001b[49m\u001b[43m(\u001b[49m\u001b[43mtimeout\u001b[49m\u001b[38;5;241;43m=\u001b[39;49m\u001b[43mtimeout\u001b[49m\u001b[43m)\u001b[49m\n\u001b[1;32m   1190\u001b[0m \u001b[38;5;28;01mexcept\u001b[39;00m \u001b[38;5;167;01mKeyboardInterrupt\u001b[39;00m:\n\u001b[1;32m   1191\u001b[0m     \u001b[38;5;66;03m# https://bugs.python.org/issue25942\u001b[39;00m\n\u001b[1;32m   1192\u001b[0m     \u001b[38;5;66;03m# The first keyboard interrupt waits briefly for the child to\u001b[39;00m\n\u001b[1;32m   1193\u001b[0m     \u001b[38;5;66;03m# exit under the common assumption that it also received the ^C\u001b[39;00m\n\u001b[1;32m   1194\u001b[0m     \u001b[38;5;66;03m# generated SIGINT and will exit rapidly.\u001b[39;00m\n\u001b[1;32m   1195\u001b[0m     \u001b[38;5;28;01mif\u001b[39;00m timeout \u001b[38;5;129;01mis\u001b[39;00m \u001b[38;5;129;01mnot\u001b[39;00m \u001b[38;5;28;01mNone\u001b[39;00m:\n",
      "File \u001b[0;32m/usr/lib64/python3.9/subprocess.py:1933\u001b[0m, in \u001b[0;36mPopen._wait\u001b[0;34m(self, timeout)\u001b[0m\n\u001b[1;32m   1931\u001b[0m \u001b[38;5;28;01mif\u001b[39;00m \u001b[38;5;28mself\u001b[39m\u001b[38;5;241m.\u001b[39mreturncode \u001b[38;5;129;01mis\u001b[39;00m \u001b[38;5;129;01mnot\u001b[39;00m \u001b[38;5;28;01mNone\u001b[39;00m:\n\u001b[1;32m   1932\u001b[0m     \u001b[38;5;28;01mbreak\u001b[39;00m  \u001b[38;5;66;03m# Another thread waited.\u001b[39;00m\n\u001b[0;32m-> 1933\u001b[0m (pid, sts) \u001b[38;5;241m=\u001b[39m \u001b[38;5;28;43mself\u001b[39;49m\u001b[38;5;241;43m.\u001b[39;49m\u001b[43m_try_wait\u001b[49m\u001b[43m(\u001b[49m\u001b[38;5;241;43m0\u001b[39;49m\u001b[43m)\u001b[49m\n\u001b[1;32m   1934\u001b[0m \u001b[38;5;66;03m# Check the pid and loop as waitpid has been known to\u001b[39;00m\n\u001b[1;32m   1935\u001b[0m \u001b[38;5;66;03m# return 0 even without WNOHANG in odd situations.\u001b[39;00m\n\u001b[1;32m   1936\u001b[0m \u001b[38;5;66;03m# http://bugs.python.org/issue14396.\u001b[39;00m\n\u001b[1;32m   1937\u001b[0m \u001b[38;5;28;01mif\u001b[39;00m pid \u001b[38;5;241m==\u001b[39m \u001b[38;5;28mself\u001b[39m\u001b[38;5;241m.\u001b[39mpid:\n",
      "File \u001b[0;32m/usr/lib64/python3.9/subprocess.py:1891\u001b[0m, in \u001b[0;36mPopen._try_wait\u001b[0;34m(self, wait_flags)\u001b[0m\n\u001b[1;32m   1889\u001b[0m \u001b[38;5;250m\u001b[39m\u001b[38;5;124;03m\"\"\"All callers to this function MUST hold self._waitpid_lock.\"\"\"\u001b[39;00m\n\u001b[1;32m   1890\u001b[0m \u001b[38;5;28;01mtry\u001b[39;00m:\n\u001b[0;32m-> 1891\u001b[0m     (pid, sts) \u001b[38;5;241m=\u001b[39m \u001b[43mos\u001b[49m\u001b[38;5;241;43m.\u001b[39;49m\u001b[43mwaitpid\u001b[49m\u001b[43m(\u001b[49m\u001b[38;5;28;43mself\u001b[39;49m\u001b[38;5;241;43m.\u001b[39;49m\u001b[43mpid\u001b[49m\u001b[43m,\u001b[49m\u001b[43m \u001b[49m\u001b[43mwait_flags\u001b[49m\u001b[43m)\u001b[49m\n\u001b[1;32m   1892\u001b[0m \u001b[38;5;28;01mexcept\u001b[39;00m \u001b[38;5;167;01mChildProcessError\u001b[39;00m:\n\u001b[1;32m   1893\u001b[0m     \u001b[38;5;66;03m# This happens if SIGCLD is set to be ignored or waiting\u001b[39;00m\n\u001b[1;32m   1894\u001b[0m     \u001b[38;5;66;03m# for child processes has otherwise been disabled for our\u001b[39;00m\n\u001b[1;32m   1895\u001b[0m     \u001b[38;5;66;03m# process.  This child is dead, we can't get the status.\u001b[39;00m\n\u001b[1;32m   1896\u001b[0m     pid \u001b[38;5;241m=\u001b[39m \u001b[38;5;28mself\u001b[39m\u001b[38;5;241m.\u001b[39mpid\n",
      "\u001b[0;31mKeyboardInterrupt\u001b[0m: "
     ]
    }
   ],
   "source": [
    "def fun(N):\n",
    "    pre_w1 = gen_distribution((beta, alpha, t_emit, 0, 0), (beta, alpha, t_emit, 0, 0), momentum, pz_std, z_emit=l_emit, N=N)\n",
    "    pre_w1[\"PDGid\"] = -13\n",
    "    start_time = time.time()\n",
    "    post_w1 = run_distribution(pre_w1, w1_length, w1_angle, vd_dist, axis=0)\n",
    "    return post_w1, time.time()-start_time\n",
    "\n",
    "results = run_scan(fun, (particleCountRange,), \"results/accuracy_particleCount.pkl.lzma\", trials=30)"
   ]
  },
  {
   "cell_type": "code",
   "execution_count": 6,
   "id": "46f237a8-fd03-4cd9-8cae-1cefdcc790e9",
   "metadata": {},
   "outputs": [
    {
     "name": "stdout",
     "output_type": "stream",
     "text": [
      "abshalfangle3=46.538398375036195 absoffset3=3.5547471253984786 abshgt=11.472300160066446 absLEN3=24 wedgeAxis=0\n"
     ]
    }
   ],
   "source": [
    "pre_w1 = gen_distribution((beta, alpha, t_emit, 0, 0), (beta, alpha, t_emit, 0, 0), momentum, pz_std, z_emit=l_emit)\n",
    "pre_w1[\"PDGid\"] = -13\n",
    "run_distribution(pre_w1, w1_length, w1_angle, vd_dist, axis=0, debug=True)"
   ]
  },
  {
   "cell_type": "code",
   "execution_count": null,
   "id": "ec504fd5-6c27-49a6-a8aa-6835277fcebc",
   "metadata": {},
   "outputs": [],
   "source": [
    "with lzma.open(\"results/accuracy_particleCount.pkl.lzma\", \"rb\") as file:\n",
    "    results = pickle.load(file)\n",
    "\n",
    "fig, ((ax1, ax2, ax3, ax4, ax5, ax6)) = plt.subplots(nrows=6, layout=\"constrained\")\n",
    "fig.set_size_inches(12, 6)\n",
    "ax1.errorbar(*qmap_to_arrays(maxSteps, calc_quantity(lambda x: emittances(cut_outliers(x[0]))[0], results)), capsize=2)\n",
    "ax1.set_xlabel(r\"N\")\n",
    "ax1.set_ylabel(r\"x emit (mm)\")\n",
    "ax1.set_yscale(\"log\")\n",
    "\n",
    "ax2.errorbar(*qmap_to_arrays(maxSteps, calc_quantity(lambda x: emittances(cut_outliers(x[0]))[1], results)), capsize=2)\n",
    "ax2.set_xlabel(r\"N\")\n",
    "ax2.set_ylabel(r\"y emit (mm)\")\n",
    "ax2.set_yscale(\"log\")\n",
    "\n",
    "ax3.errorbar(*qmap_to_arrays(maxSteps, calc_quantity(lambda x: emittances(cut_outliers(x[0]))[2], results)), capsize=2)\n",
    "ax3.set_xlabel(r\"N\")\n",
    "ax3.set_ylabel(r\"z emit (mm)\")\n",
    "ax3.set_yscale(\"log\")\n",
    "\n",
    "ax4.errorbar(*qmap_to_arrays(maxSteps, calc_quantity(lambda x: np.std(p_total(cut_outliers(x[0]))), results)), capsize=2)\n",
    "ax4.set_xlabel(r\"N\")\n",
    "ax4.set_ylabel(r\"$\\sigma_p$ (MeV/c)\")\n",
    "ax4.set_yscale(\"log\")\n",
    "\n",
    "ax5.errorbar(*qmap_to_arrays(maxSteps, calc_quantity(lambda x: np.mean(p_total(cut_outliers(x[0]))), results)), capsize=2)\n",
    "ax5.set_xlabel(r\"N\")\n",
    "ax5.set_ylabel(r\"mean momentum (MeV/c)\")\n",
    "ax5.set_yscale(\"log\")\n",
    "\n",
    "ax6.errorbar(*qmap_to_arrays(maxSteps, calc_quantity(lambda x: x[1], results)), capsize=2)\n",
    "ax6.set_xlabel(r\"N\")\n",
    "ax6.set_ylabel(r\"time\")\n",
    "ax6.set_yscale(\"log\")"
   ]
  }
 ],
 "metadata": {
  "kernelspec": {
   "display_name": "Python 3 (ipykernel)",
   "language": "python",
   "name": "python3"
  },
  "language_info": {
   "codemirror_mode": {
    "name": "ipython",
    "version": 3
   },
   "file_extension": ".py",
   "mimetype": "text/x-python",
   "name": "python",
   "nbconvert_exporter": "python",
   "pygments_lexer": "ipython3",
   "version": "3.9.18"
  }
 },
 "nbformat": 4,
 "nbformat_minor": 5
}
