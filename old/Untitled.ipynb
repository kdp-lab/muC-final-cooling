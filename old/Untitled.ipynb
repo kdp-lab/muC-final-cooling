{
 "cells": [
  {
   "cell_type": "code",
   "execution_count": 1,
   "id": "c842498d-cff3-4008-a8de-e4813835d0e8",
   "metadata": {},
   "outputs": [],
   "source": [
    "# Standard imports\n",
    "\n",
    "from g4beam import *\n",
    "\n",
    "import math\n",
    "\n",
    "import matplotlib.pyplot as plt\n",
    "from matplotlib import cm\n",
    "import numpy as np\n",
    "import pandas as pd\n",
    "from tqdm import *\n",
    "import pickle\n",
    "import itertools"
   ]
  },
  {
   "cell_type": "code",
   "execution_count": 2,
   "id": "a5b8c909-24c9-4759-b2c5-ec557d4238d6",
   "metadata": {},
   "outputs": [
    {
     "name": "stderr",
     "output_type": "stream",
     "text": [
      "100%|████████████████████████████████████████████████████████████████████████████████| 450/450 [00:05<00:00, 86.70it/s]\n"
     ]
    }
   ],
   "source": [
    "# Process results\n",
    "with open(\"results/angle_scan_width_alpha_data.pkl\", \"rb\") as file:\n",
    "    results = pickle.load(file)\n",
    "results_post = list()\n",
    "for angle, length, alpha, after in tqdm(results):\n",
    "    after = cut_outliers(after, 3.5)\n",
    "    x_emit, y_emit, z_emit = emittances(after)\n",
    "    results_post.append([angle, length, alpha] + [x_emit, y_emit, z_emit, len(after)])\n",
    "results_post = pd.DataFrame(results_post, columns=[\"angle\", \"length\", \"alpha\", \"xemit\", \"yemit\", \"zemit\", \"N\"])"
   ]
  },
  {
   "cell_type": "code",
   "execution_count": 17,
   "id": "aa5031c2-94b9-4804-af21-cef8851b6e1a",
   "metadata": {},
   "outputs": [
    {
     "data": {
      "text/plain": [
       "angle        53.793103\n",
       "length        7.500000\n",
       "alpha         0.700000\n",
       "xemit         0.042413\n",
       "yemit         0.144684\n",
       "zemit         5.231269\n",
       "N         11941.000000\n",
       "Name: 305, dtype: float64"
      ]
     },
     "execution_count": 17,
     "metadata": {},
     "output_type": "execute_result"
    }
   ],
   "source": [
    "i = np.argmin(results_post[\"xemit\"])\n",
    "results_post.loc[i]"
   ]
  },
  {
   "cell_type": "code",
   "execution_count": 21,
   "id": "6a712328-1d51-4432-b0b8-25ed4e951588",
   "metadata": {},
   "outputs": [],
   "source": [
    "import winsound\n",
    "frequency = 2400  # Set Frequency To 2500 Hertz\n",
    "duration = 200  # Set Duration To 1000 ms == 1 second\n",
    "winsound.Beep(frequency, duration)"
   ]
  },
  {
   "cell_type": "code",
   "execution_count": 31,
   "id": "ed3d0383-75c6-490f-af93-abd645ab1dc0",
   "metadata": {},
   "outputs": [],
   "source": [
    "for x in range(2000, 2301, 100): \n",
    "    winsound.Beep(x, 100)"
   ]
  },
  {
   "cell_type": "code",
   "execution_count": null,
   "id": "4c16a2a9-5f75-44c3-b2ef-91e6b82dee91",
   "metadata": {},
   "outputs": [],
   "source": []
  }
 ],
 "metadata": {
  "kernelspec": {
   "display_name": "Python 3 (ipykernel)",
   "language": "python",
   "name": "python3"
  },
  "language_info": {
   "codemirror_mode": {
    "name": "ipython",
    "version": 3
   },
   "file_extension": ".py",
   "mimetype": "text/x-python",
   "name": "python",
   "nbconvert_exporter": "python",
   "pygments_lexer": "ipython3",
   "version": "3.11.1"
  }
 },
 "nbformat": 4,
 "nbformat_minor": 5
}
