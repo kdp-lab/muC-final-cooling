{
 "cells": [
  {
   "cell_type": "code",
   "execution_count": 1,
   "id": "8d88fbeb-4f96-4ce8-aaf2-d9711f9d5f66",
   "metadata": {},
   "outputs": [],
   "source": [
    "import scipy\n",
    "import numpy as np\n",
    "from time import sleep"
   ]
  },
  {
   "cell_type": "code",
   "execution_count": 28,
   "id": "66773857-d16b-4899-823e-c6d8ae0d929f",
   "metadata": {},
   "outputs": [],
   "source": [
    "def testfunc(x):\n",
    "    sleep(0.05)\n",
    "    x, y = x\n",
    "    return (1-x)**2+100*(y-x**2)**2"
   ]
  },
  {
   "cell_type": "code",
   "execution_count": 23,
   "id": "1b537f4a-8100-4b38-8d22-47776c61faf5",
   "metadata": {},
   "outputs": [
    {
     "name": "stdout",
     "output_type": "stream",
     "text": [
      "[1 1]\n"
     ]
    },
    {
     "data": {
      "text/plain": [
       "0"
      ]
     },
     "execution_count": 23,
     "metadata": {},
     "output_type": "execute_result"
    }
   ],
   "source": [
    "testfunc(np.array([1, 1]))"
   ]
  },
  {
   "cell_type": "code",
   "execution_count": 36,
   "id": "6d30a253-f951-4825-8973-b51f1f8e0115",
   "metadata": {},
   "outputs": [],
   "source": [
    "def testfunc(x):\n",
    "    sleep(0.05)\n",
    "    x, y = x\n",
    "    return (1-x)**2+100*(y-x**2)**2"
   ]
  },
  {
   "cell_type": "code",
   "execution_count": 50,
   "id": "5781245c-9416-4902-805d-c5351f4e8f41",
   "metadata": {},
   "outputs": [],
   "source": [
    "# Pretty minimize function\n",
    "def minimize(func, start, **kwargs):\n",
    "    global num_iter\n",
    "    num_iter = 0\n",
    "    def callback(intermediate_result):\n",
    "        global num_iter\n",
    "        num_iter += 1\n",
    "        print(f\"{num_iter:4} {intermediate_result.fun:.5e}\", end=\"\\r\")\n",
    "    print(\"iter value\")\n",
    "    result = scipy.optimize.minimize(func, start, callback=callback, **kwargs)\n",
    "    print()\n",
    "    return result"
   ]
  },
  {
   "cell_type": "code",
   "execution_count": 52,
   "id": "e4a702dc-e2e2-4a7d-8122-ea149b2081fa",
   "metadata": {},
   "outputs": [
    {
     "name": "stdout",
     "output_type": "stream",
     "text": [
      "iter value\n",
      "  79 3.68618e-10\n",
      "hello\n"
     ]
    }
   ],
   "source": [
    "res = minimize(testfunc, [0, 0], method=\"Nelder-Mead\", bounds=((-2, 2), (-2, 2)))\n",
    "print(\"hello\")"
   ]
  },
  {
   "cell_type": "code",
   "execution_count": 19,
   "id": "fe70801e-b08e-45a2-9ae6-beb49488cc87",
   "metadata": {},
   "outputs": [],
   "source": [
    "test = np.array([0, 1])\n",
    "x, y = test"
   ]
  },
  {
   "cell_type": "code",
   "execution_count": 11,
   "id": "71439113-129d-48d2-9764-06bc48bde6fc",
   "metadata": {},
   "outputs": [
    {
     "name": "stdout",
     "output_type": "stream",
     "text": [
      "81\n",
      "fin\n"
     ]
    }
   ],
   "source": [
    "for i in range(10):\n",
    "    print(i**2, end=\"\\r\")\n",
    "    sleep(1)\n",
    "print()\n",
    "print(\"fin\")"
   ]
  },
  {
   "cell_type": "code",
   "execution_count": null,
   "id": "61048f8f-f75e-4814-88e0-38f273b22c55",
   "metadata": {},
   "outputs": [],
   "source": []
  }
 ],
 "metadata": {
  "kernelspec": {
   "display_name": "Python 3 (ipykernel)",
   "language": "python",
   "name": "python3"
  },
  "language_info": {
   "codemirror_mode": {
    "name": "ipython",
    "version": 3
   },
   "file_extension": ".py",
   "mimetype": "text/x-python",
   "name": "python",
   "nbconvert_exporter": "python",
   "pygments_lexer": "ipython3",
   "version": "3.11.1"
  }
 },
 "nbformat": 4,
 "nbformat_minor": 5
}
